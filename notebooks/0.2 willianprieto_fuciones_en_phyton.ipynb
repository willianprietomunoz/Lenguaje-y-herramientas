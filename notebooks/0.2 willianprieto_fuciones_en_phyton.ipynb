{
 "cells": [
  {
   "cell_type": "markdown",
   "metadata": {},
   "source": [
    "# Funciones en pyhton"
   ]
  },
  {
   "cell_type": "code",
   "execution_count": 4,
   "metadata": {},
   "outputs": [
    {
     "data": {
      "text/plain": [
       "8"
      ]
     },
     "execution_count": 4,
     "metadata": {},
     "output_type": "execute_result"
    }
   ],
   "source": [
    "# Funcion de x   f(x) = x+5 f(x=3) = 3+5 -- 8\n",
    "# def defiir variable de fucion\n",
    "def f(x):\n",
    "    resultado = x+5\n",
    "    return resultado\n",
    "f(x=3)\n",
    " # Return para que me muestre el valor de la funcion"
   ]
  },
  {
   "cell_type": "markdown",
   "metadata": {},
   "source": [
    "# Pseudo-codigo"
   ]
  },
  {
   "cell_type": "code",
   "execution_count": 5,
   "metadata": {},
   "outputs": [
    {
     "data": {
      "text/plain": [
       "3"
      ]
     },
     "execution_count": 5,
     "metadata": {},
     "output_type": "execute_result"
    }
   ],
   "source": [
    "1 # Obtener el valor de la suma de los numero de una lista\n",
    "2 # Obtener el valo minimo y maximo\n",
    "3 # Obtener media y desviacion estadar\n",
    "\n",
    "5 # Calcular_valores(lista_numeros)\n",
    "6 #     suma = calcular_suma(lista_nueros)\n",
    "7 #     media, dev_std = calcular_valores_centrales(Lista_numeros)\n",
    "8 #     min_val, max_val = calcular_extremos(Lista_numeros)\n",
    "9 #     return, sum, media, dev_std, min_val, max_val\n"
   ]
  },
  {
   "cell_type": "code",
   "execution_count": 16,
   "metadata": {},
   "outputs": [],
   "source": [
    "from msilib.schema import Media\n",
    "import numpy as np\n",
    "\n",
    "def calcular_valores_centrales(lista_numeros):\n",
    "    media = np.mean(lista_numeros)\n",
    "    dev_std = np.std(lista_numeros)\n",
    "    return media, dev_std\n",
    "\n",
    "def calcular_extremos(lista_numeros):\n",
    "    min_val = np.min(lista_numeros)\n",
    "    max_val = np.max(lista_numeros)\n",
    "    return min_val, max_val\n",
    "\n",
    "def calcular_suma(lista_numeros):\n",
    "    resultado = np.sum(lista_numeros)\n",
    "    return resultado\n",
    "\n",
    "def calcular_valores(lista_numeros):\n",
    "    suma = calcular_suma(lista_numeros)\n",
    "    media, dev_std = calcular_valores_centrales(lista_numeros)\n",
    "    min_val, max_val = calcular_extremos(lista_numeros)\n",
    "    return suma, media, dev_std, min_val, max_val  "
   ]
  },
  {
   "cell_type": "code",
   "execution_count": 17,
   "metadata": {},
   "outputs": [
    {
     "data": {
      "text/plain": [
       "(155, 25.833333333333332, 33.58777886209341, 1, 93)"
      ]
     },
     "execution_count": 17,
     "metadata": {},
     "output_type": "execute_result"
    }
   ],
   "source": [
    "lista_numeros = [ 1,5,8,3,45,93]\n",
    "calcular_valores(lista_numeros)"
   ]
  },
  {
   "cell_type": "code",
   "execution_count": null,
   "metadata": {},
   "outputs": [],
   "source": []
  }
 ],
 "metadata": {
  "kernelspec": {
   "display_name": "Python 3.9.12 ('base')",
   "language": "python",
   "name": "python3"
  },
  "language_info": {
   "codemirror_mode": {
    "name": "ipython",
    "version": 3
   },
   "file_extension": ".py",
   "mimetype": "text/x-python",
   "name": "python",
   "nbconvert_exporter": "python",
   "pygments_lexer": "ipython3",
   "version": "3.9.12"
  },
  "orig_nbformat": 4,
  "vscode": {
   "interpreter": {
    "hash": "0bfa9b565279cd6d1bee235339f88b6b3b3ebbda7a8d1b31c8eb3ee702f864e2"
   }
  }
 },
 "nbformat": 4,
 "nbformat_minor": 2
}
